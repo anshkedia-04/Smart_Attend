{
 "cells": [
  {
   "cell_type": "code",
   "execution_count": 1,
   "id": "794c40c0",
   "metadata": {},
   "outputs": [
    {
     "name": "stdout",
     "output_type": "stream",
     "text": [
      "✅ Collected 60 images from 2 students.\n",
      "🎉 Model saved to trainer.yml\n"
     ]
    }
   ],
   "source": [
    "import cv2\n",
    "import numpy as np\n",
    "import os\n",
    "\n",
    "dataset_path = \"dataset\"\n",
    "haar_file = \"haarcascade_frontalface_default.xml\"\n",
    "recognizer = cv2.face.LBPHFaceRecognizer_create()\n",
    "\n",
    "faces = []\n",
    "labels = []\n",
    "\n",
    "for folder_name in os.listdir(dataset_path):\n",
    "    folder_path = os.path.join(dataset_path, folder_name)\n",
    "    if not os.path.isdir(folder_path):\n",
    "        continue\n",
    "\n",
    "    roll_no = folder_name.split('_')[0]  # Use only roll number\n",
    "    try:\n",
    "        label = int(roll_no)\n",
    "    except:\n",
    "        continue\n",
    "\n",
    "    for filename in os.listdir(folder_path):\n",
    "        img_path = os.path.join(folder_path, filename)\n",
    "        img = cv2.imread(img_path, cv2.IMREAD_GRAYSCALE)\n",
    "        if img is not None:\n",
    "            faces.append(img)\n",
    "            labels.append(label)\n",
    "\n",
    "print(f\"✅ Collected {len(faces)} images from {len(set(labels))} students.\")\n",
    "recognizer.train(faces, np.array(labels))\n",
    "recognizer.save(\"trainer.yml\")\n",
    "print(\"🎉 Model saved to trainer.yml\")\n"
   ]
  }
 ],
 "metadata": {
  "kernelspec": {
   "display_name": "Python 3",
   "language": "python",
   "name": "python3"
  },
  "language_info": {
   "codemirror_mode": {
    "name": "ipython",
    "version": 3
   },
   "file_extension": ".py",
   "mimetype": "text/x-python",
   "name": "python",
   "nbconvert_exporter": "python",
   "pygments_lexer": "ipython3",
   "version": "3.13.0"
  }
 },
 "nbformat": 4,
 "nbformat_minor": 5
}
